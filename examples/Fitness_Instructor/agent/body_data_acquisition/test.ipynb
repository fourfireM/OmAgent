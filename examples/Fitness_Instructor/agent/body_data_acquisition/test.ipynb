{
 "cells": [
  {
   "cell_type": "code",
   "execution_count": 1,
   "metadata": {},
   "outputs": [],
   "source": [
    "import json\n",
    "\n",
    "def load_json(json_path: str):\n",
    "    with open(json_path, 'r', encoding='utf-8') as f:\n",
    "        res = json.load(f)\n",
    "    return res\n",
    "\n",
    "def get_body_data(body_data):\n",
    "    # 提取数据\n",
    "    weight = body_data.get(\"Weight\", \"未知\")\n",
    "    fat = body_data.get(\"Fat\", \"未知\")\n",
    "    striated_muscle = body_data.get(\"Striated_Muscle\", \"未知\")\n",
    "    muscle = body_data.get(\"Muscle\", \"未知\")\n",
    "    bone = body_data.get(\"Bone\", \"未知\")\n",
    "    visceral_fat_grade = body_data.get(\"Visceral_Fat_Grade\", \"未知\")\n",
    "    \n",
    "    # 构建字符串\n",
    "    body_data_string = (\n",
    "        f\"体重: {weight}, \"\n",
    "        f\"脂肪: {fat}, \"\n",
    "        f\"骨骼肌: {striated_muscle}, \"\n",
    "        f\"肌肉: {muscle}, \"\n",
    "        f\"骨骼: {bone}, \"\n",
    "        f\"内脏脂肪等级: {visceral_fat_grade}\"\n",
    "    )\n",
    "    \n",
    "    return body_data_string\n",
    "\n"
   ]
  },
  {
   "cell_type": "code",
   "execution_count": 2,
   "metadata": {},
   "outputs": [],
   "source": [
    "body_data = load_json('./body_data.json')\n",
    "\n",
    "body_data_string = get_body_data(body_data['Body_Data'])"
   ]
  },
  {
   "cell_type": "code",
   "execution_count": 3,
   "metadata": {},
   "outputs": [
    {
     "name": "stdout",
     "output_type": "stream",
     "text": [
      "体重: 95.85kg, 脂肪: 23.85kg, 骨骼肌: 38.63kg, 肌肉: 67.5kg, 骨骼: 5.2kg, 内脏脂肪等级: 9\n"
     ]
    }
   ],
   "source": [
    "print(body_data_string)"
   ]
  },
  {
   "cell_type": "code",
   "execution_count": null,
   "metadata": {},
   "outputs": [],
   "source": []
  }
 ],
 "metadata": {
  "kernelspec": {
   "display_name": "OmAgent",
   "language": "python",
   "name": "python3"
  },
  "language_info": {
   "codemirror_mode": {
    "name": "ipython",
    "version": 3
   },
   "file_extension": ".py",
   "mimetype": "text/x-python",
   "name": "python",
   "nbconvert_exporter": "python",
   "pygments_lexer": "ipython3",
   "version": "3.10.15"
  }
 },
 "nbformat": 4,
 "nbformat_minor": 2
}
